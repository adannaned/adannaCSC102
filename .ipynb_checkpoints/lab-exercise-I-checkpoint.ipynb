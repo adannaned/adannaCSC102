{
 "cells": [
  {
   "cell_type": "markdown",
   "metadata": {},
   "source": [
    "# NAME: Ned-onuoha Adanna Rita\n",
    "# Matric Number: 20120612091\n",
    "# Email: adanna.ned-onuoha@pau.edu.ng\n",
    "# Exercise description: Python Programming\n",
    "<img src= \"pro.jpg\">\n"
   ]
  },
  {
   "cell_type": "markdown",
   "metadata": {},
   "source": [
    "# Exercise I\n"
   ]
  },
  {
   "cell_type": "code",
   "execution_count": 8,
   "metadata": {},
   "outputs": [
    {
     "name": "stdout",
     "output_type": "stream",
     "text": [
      "enter value into a: 32\n",
      "30\n"
     ]
    }
   ],
   "source": [
    "a = int(input(\"enter value into a: \"))\n",
    "if a > 17:\n",
    "    c = 2*(a-17)\n",
    "    print (c)\n",
    "else:\n",
    "    d = a - 17\n",
    "    print(d)"
   ]
  },
  {
   "cell_type": "markdown",
   "metadata": {},
   "source": [
    "# Exercise II"
   ]
  },
  {
   "cell_type": "code",
   "execution_count": 10,
   "metadata": {},
   "outputs": [
    {
     "name": "stdout",
     "output_type": "stream",
     "text": [
      "enter a value into a: 5\n",
      "enter a value into b: 6\n",
      "enter a value into c: 7\n",
      "18\n"
     ]
    }
   ],
   "source": [
    "a = int(input(\"enter a value into a: \"))\n",
    "b = int(input(\"enter a value into b: \"))\n",
    "c = int(input(\"enter a value into c: \"))\n",
    "if a==b==c:\n",
    "    g = (a+b+c)*3\n",
    "    print(g)\n",
    "else:\n",
    "    d = a+b+c\n",
    "    print(d)"
   ]
  },
  {
   "cell_type": "markdown",
   "metadata": {},
   "source": [
    "# Exercise III"
   ]
  },
  {
   "cell_type": "code",
   "execution_count": 9,
   "metadata": {},
   "outputs": [
    {
     "name": "stdout",
     "output_type": "stream",
     "text": [
      "enter a value into a: 2\n",
      "enter a value into b: 3\n",
      "True\n"
     ]
    }
   ],
   "source": [
    "a = int(input(\"enter a value into a: \"))\n",
    "b = int(input(\"enter a value into b: \"))\n",
    "if a + b !=5:\n",
    "    print(\"false\")\n",
    "else:\n",
    "    print(\"True\")"
   ]
  },
  {
   "cell_type": "markdown",
   "metadata": {},
   "source": [
    "# Exercise IV"
   ]
  },
  {
   "cell_type": "code",
   "execution_count": 12,
   "metadata": {},
   "outputs": [
    {
     "name": "stdout",
     "output_type": "stream",
     "text": [
      "enter a value into w: 8\n",
      "enter a value into x: 3\n",
      "enter a value into y: 7\n",
      "(8, 3, 7)\n",
      "7\n"
     ]
    }
   ],
   "source": [
    "w = eval(input(\"enter a value into w: \"))\n",
    "x = eval(input(\"enter a value into x: \"))\n",
    "y = eval(input(\"enter a value into y: \"))\n",
    "z = (w,x,y)\n",
    "print(z)\n",
    "sum(z)\n",
    "max(z)\n",
    "min(z)\n",
    "a = w + x + y\n",
    "mid = a -max(z) - min(z)\n",
    "print (mid)\n"
   ]
  },
  {
   "cell_type": "markdown",
   "metadata": {},
   "source": [
    "# Exercise V"
   ]
  },
  {
   "cell_type": "code",
   "execution_count": 14,
   "metadata": {},
   "outputs": [
    {
     "name": "stdout",
     "output_type": "stream",
     "text": [
      "enter a positive integer: 6\n",
      "225\n"
     ]
    }
   ],
   "source": [
    "def cube(val):\n",
    "    lower = range(0,val)\n",
    "    out = 0\n",
    "    for num in lower:\n",
    "        out += (num**3)\n",
    "    return out\n",
    "val = eval(input(\"enter a positive integer: \"))\n",
    "if val > 0:\n",
    "    print(cube(val))\n",
    "else:\n",
    "    print(\"enter a positive integer: \")"
   ]
  },
  {
   "cell_type": "code",
   "execution_count": null,
   "metadata": {},
   "outputs": [],
   "source": []
  }
 ],
 "metadata": {
  "kernelspec": {
   "display_name": "Python 3",
   "language": "python",
   "name": "python3"
  },
  "language_info": {
   "codemirror_mode": {
    "name": "ipython",
    "version": 3
   },
   "file_extension": ".py",
   "mimetype": "text/x-python",
   "name": "python",
   "nbconvert_exporter": "python",
   "pygments_lexer": "ipython3",
   "version": "3.8.5"
  }
 },
 "nbformat": 4,
 "nbformat_minor": 4
}

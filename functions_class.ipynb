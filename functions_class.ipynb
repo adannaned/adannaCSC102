{
 "cells": [
  {
   "cell_type": "markdown",
   "metadata": {},
   "source": [
    "# `NUMBER 1`"
   ]
  },
  {
   "cell_type": "code",
   "execution_count": 38,
   "metadata": {},
   "outputs": [
    {
     "name": "stdout",
     "output_type": "stream",
     "text": [
      "Enter an option: YES\n",
      "sorry, such argument is not welcome here\n"
     ]
    }
   ],
   "source": [
    "def shut_down(comp):\n",
    "    if comp == \"yes\":\n",
    "        return \"shutting down\"\n",
    "    elif comp == \"no\":\n",
    "        return \"shut down aborted\"\n",
    "    else:\n",
    "        return \"sorry, such argument is not welcome here\"\n",
    "print(shut_down(input(\"Enter an option: \")))"
   ]
  },
  {
   "cell_type": "markdown",
   "metadata": {},
   "source": [
    "# `NUMBER 2`"
   ]
  },
  {
   "cell_type": "code",
   "execution_count": null,
   "metadata": {},
   "outputs": [],
   "source": [
    "def showEmployee():\n",
    "    "
   ]
  },
  {
   "cell_type": "markdown",
   "metadata": {},
   "source": [
    "# `NUMBER 3`"
   ]
  },
  {
   "cell_type": "code",
   "execution_count": 62,
   "metadata": {},
   "outputs": [
    {
     "name": "stdout",
     "output_type": "stream",
     "text": [
      "Enter a value: 6\n",
      "None\n"
     ]
    }
   ],
   "source": [
    "def by_three(number):\n",
    "    if number % 3 == 0 :\n",
    "        return cube(number)\n",
    "    else:\n",
    "        return \"False\"\n",
    "\n",
    "def cube(number):\n",
    "    number = number^3\n",
    "d = int(input(\"Enter a value: \"))\n",
    "\n",
    "print((by_three(d)))\n",
    "\n",
    "\n",
    "        \n",
    "        \n",
    "    \n",
    "        \n",
    "       \n",
    "    \n",
    "\n"
   ]
  },
  {
   "cell_type": "markdown",
   "metadata": {},
   "source": [
    "# `NUMBER 4`"
   ]
  },
  {
   "cell_type": "code",
   "execution_count": 40,
   "metadata": {},
   "outputs": [
    {
     "name": "stdout",
     "output_type": "stream",
     "text": [
      "Enter a word: APPLE\n",
      "The number of lowercase is:  0\n",
      "The number of uppercase is:  5\n"
     ]
    }
   ],
   "source": [
    "string = input(\"Enter a word: \")\n",
    "digit1 = 0\n",
    "digit2 = 0\n",
    "for i in string:\n",
    "    if (i.islower()):\n",
    "        digit1=digit1+1\n",
    "    elif (i.isupper()):\n",
    "        digit2=digit2+1\n",
    "print (\"The number of lowercase is: \", digit1)\n",
    "print (\"The number of uppercase is: \", digit2)\n",
    "\n",
    "\n"
   ]
  },
  {
   "cell_type": "code",
   "execution_count": null,
   "metadata": {},
   "outputs": [],
   "source": []
  },
  {
   "cell_type": "code",
   "execution_count": null,
   "metadata": {},
   "outputs": [],
   "source": []
  },
  {
   "cell_type": "code",
   "execution_count": null,
   "metadata": {},
   "outputs": [],
   "source": []
  }
 ],
 "metadata": {
  "kernelspec": {
   "display_name": "Python 3",
   "language": "python",
   "name": "python3"
  },
  "language_info": {
   "codemirror_mode": {
    "name": "ipython",
    "version": 3
   },
   "file_extension": ".py",
   "mimetype": "text/x-python",
   "name": "python",
   "nbconvert_exporter": "python",
   "pygments_lexer": "ipython3",
   "version": "3.8.5"
  }
 },
 "nbformat": 4,
 "nbformat_minor": 4
}
